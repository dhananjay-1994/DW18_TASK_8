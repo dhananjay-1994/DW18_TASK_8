{
 "cells": [
  {
   "cell_type": "code",
   "execution_count": 2,
   "id": "049c8712",
   "metadata": {},
   "outputs": [
    {
     "name": "stdout",
     "output_type": "stream",
     "text": [
      "Collecting deep-translator\n",
      "  Downloading deep_translator-1.9.1-py3-none-any.whl (30 kB)\n",
      "Requirement already satisfied: beautifulsoup4<5.0.0,>=4.9.1 in c:\\users\\ashle\\anaconda3\\lib\\site-packages (from deep-translator) (4.11.1)\n",
      "Requirement already satisfied: requests<3.0.0,>=2.23.0 in c:\\users\\ashle\\anaconda3\\lib\\site-packages (from deep-translator) (2.28.1)\n",
      "Requirement already satisfied: soupsieve>1.2 in c:\\users\\ashle\\anaconda3\\lib\\site-packages (from beautifulsoup4<5.0.0,>=4.9.1->deep-translator) (2.3.1)\n",
      "Requirement already satisfied: urllib3<1.27,>=1.21.1 in c:\\users\\ashle\\anaconda3\\lib\\site-packages (from requests<3.0.0,>=2.23.0->deep-translator) (1.26.11)\n",
      "Requirement already satisfied: certifi>=2017.4.17 in c:\\users\\ashle\\anaconda3\\lib\\site-packages (from requests<3.0.0,>=2.23.0->deep-translator) (2022.9.14)\n",
      "Requirement already satisfied: charset-normalizer<3,>=2 in c:\\users\\ashle\\anaconda3\\lib\\site-packages (from requests<3.0.0,>=2.23.0->deep-translator) (2.0.4)\n",
      "Requirement already satisfied: idna<4,>=2.5 in c:\\users\\ashle\\anaconda3\\lib\\site-packages (from requests<3.0.0,>=2.23.0->deep-translator) (3.3)\n",
      "Installing collected packages: deep-translator\n",
      "Successfully installed deep-translator-1.9.1\n"
     ]
    }
   ],
   "source": [
    "!pip install deep-translator"
   ]
  },
  {
   "cell_type": "code",
   "execution_count": 3,
   "id": "39aeb56b",
   "metadata": {},
   "outputs": [
    {
     "name": "stderr",
     "output_type": "stream",
     "text": [
      "[nltk_data] Downloading package punkt to\n",
      "[nltk_data]     C:\\Users\\ashle\\AppData\\Roaming\\nltk_data...\n",
      "[nltk_data]   Unzipping tokenizers\\punkt.zip.\n",
      "[nltk_data] Downloading package wordnet to\n",
      "[nltk_data]     C:\\Users\\ashle\\AppData\\Roaming\\nltk_data...\n"
     ]
    }
   ],
   "source": [
    "import pandas as pd\n",
    "import nltk\n",
    "nltk.download('punkt')\n",
    "nltk.download('wordnet')\n",
    "from deep_translator import GoogleTranslator"
   ]
  },
  {
   "cell_type": "markdown",
   "id": "c783643e",
   "metadata": {},
   "source": [
    "Importing Dataset\n",
    "\n"
   ]
  },
  {
   "cell_type": "code",
   "execution_count": 4,
   "id": "b28d006c",
   "metadata": {},
   "outputs": [
    {
     "data": {
      "text/html": [
       "<div>\n",
       "<style scoped>\n",
       "    .dataframe tbody tr th:only-of-type {\n",
       "        vertical-align: middle;\n",
       "    }\n",
       "\n",
       "    .dataframe tbody tr th {\n",
       "        vertical-align: top;\n",
       "    }\n",
       "\n",
       "    .dataframe thead th {\n",
       "        text-align: right;\n",
       "    }\n",
       "</style>\n",
       "<table border=\"1\" class=\"dataframe\">\n",
       "  <thead>\n",
       "    <tr style=\"text-align: right;\">\n",
       "      <th></th>\n",
       "      <th>English words/sentences</th>\n",
       "    </tr>\n",
       "  </thead>\n",
       "  <tbody>\n",
       "    <tr>\n",
       "      <th>0</th>\n",
       "      <td>Hi.</td>\n",
       "    </tr>\n",
       "    <tr>\n",
       "      <th>1</th>\n",
       "      <td>Run!</td>\n",
       "    </tr>\n",
       "    <tr>\n",
       "      <th>2</th>\n",
       "      <td>Run!</td>\n",
       "    </tr>\n",
       "    <tr>\n",
       "      <th>3</th>\n",
       "      <td>Who?</td>\n",
       "    </tr>\n",
       "    <tr>\n",
       "      <th>4</th>\n",
       "      <td>Wow!</td>\n",
       "    </tr>\n",
       "  </tbody>\n",
       "</table>\n",
       "</div>"
      ],
      "text/plain": [
       "  English words/sentences\n",
       "0                     Hi.\n",
       "1                    Run!\n",
       "2                    Run!\n",
       "3                    Who?\n",
       "4                    Wow!"
      ]
     },
     "execution_count": 4,
     "metadata": {},
     "output_type": "execute_result"
    }
   ],
   "source": [
    "Trans_Eng = pd.read_csv(\"English.csv\")\n",
    "Trans_Eng.head()"
   ]
  },
  {
   "cell_type": "code",
   "execution_count": 5,
   "id": "cc3e4e07",
   "metadata": {},
   "outputs": [
    {
     "name": "stdout",
     "output_type": "stream",
     "text": [
      "                                            English Words\n",
      "0                                                     Hi.\n",
      "1                                                    Run!\n",
      "2                                                    Who?\n",
      "3                                                    Wow!\n",
      "4                                                   Fire!\n",
      "...                                                   ...\n",
      "123095  Top-down economics never works, said Obama. \"T...\n",
      "123096  A carbon footprint is the amount of carbon dio...\n",
      "123097  Death is something that we're often discourage...\n",
      "123098  Since there are usually multiple websites on a...\n",
      "123099  If someone who doesn't know your background sa...\n",
      "\n",
      "[123100 rows x 1 columns]\n"
     ]
    }
   ],
   "source": [
    "Trans_En = pd.DataFrame(Trans_Eng[\"English words/sentences\"].unique()).rename(columns = {0:'English Words'})\n",
    "print(Trans_En)"
   ]
  },
  {
   "cell_type": "code",
   "execution_count": 6,
   "id": "cf3a4c9f",
   "metadata": {},
   "outputs": [
    {
     "name": "stderr",
     "output_type": "stream",
     "text": [
      "C:\\Users\\ashle\\AppData\\Local\\Temp\\ipykernel_3332\\2597856710.py:1: FutureWarning: The default value of regex will change from True to False in a future version.\n",
      "  Trans_En[\"English Words\"] = Trans_En[\"English Words\"].str.replace(\"[^a-zA-Z0-9]\", \" \")\n"
     ]
    },
    {
     "data": {
      "text/plain": [
       "0                                                       Hi \n",
       "1                                                      Run \n",
       "2                                                      Who \n",
       "3                                                      Wow \n",
       "4                                                     Fire \n",
       "                                ...                        \n",
       "123095    Top down economics never works  said Obama   T...\n",
       "123096    A carbon footprint is the amount of carbon dio...\n",
       "123097    Death is something that we re often discourage...\n",
       "123098    Since there are usually multiple websites on a...\n",
       "123099    If someone who doesn t know your background sa...\n",
       "Name: English Words, Length: 123100, dtype: object"
      ]
     },
     "execution_count": 6,
     "metadata": {},
     "output_type": "execute_result"
    }
   ],
   "source": [
    "Trans_En[\"English Words\"] = Trans_En[\"English Words\"].str.replace(\"[^a-zA-Z0-9]\", \" \") \n",
    "Trans_En[\"English Words\"]"
   ]
  },
  {
   "cell_type": "code",
   "execution_count": 7,
   "id": "07d751d5",
   "metadata": {},
   "outputs": [
    {
     "data": {
      "text/plain": [
       "0          Hi \n",
       "1         Run \n",
       "2         Who \n",
       "3         Wow \n",
       "4        Fire \n",
       "5        Help \n",
       "6        Jump \n",
       "7        Stop \n",
       "8        Wait \n",
       "9       Go on \n",
       "10      Hello \n",
       "11      I see \n",
       "12      I try \n",
       "13      I won \n",
       "14      I won \n",
       "15      Oh no \n",
       "16     Attack \n",
       "17     Cheers \n",
       "18     Get up \n",
       "19     Go now \n",
       "20     Got it \n",
       "21     Got it \n",
       "22     Hop in \n",
       "23     Hug me \n",
       "24     I fell \n",
       "25     I know \n",
       "26     I left \n",
       "27     I lied \n",
       "28     I lost \n",
       "29     I paid \n",
       "30     I m 19 \n",
       "31     I m OK \n",
       "32     Listen \n",
       "33     No way \n",
       "34     Really \n",
       "35     Thanks \n",
       "36     We try \n",
       "37     We won \n",
       "38    Ask Tom \n",
       "39    Awesome \n",
       "40    Be calm \n",
       "41    Be cool \n",
       "42    Be fair \n",
       "43    Be kind \n",
       "44    Be nice \n",
       "45    Beat it \n",
       "46    Call me \n",
       "47    Call us \n",
       "48    Come in \n",
       "49    Come on \n",
       "Name: English Words, dtype: object"
      ]
     },
     "execution_count": 7,
     "metadata": {},
     "output_type": "execute_result"
    }
   ],
   "source": [
    "Trans_En[\"English Words\"].head(50)"
   ]
  },
  {
   "cell_type": "markdown",
   "id": "c9ce376f",
   "metadata": {},
   "source": [
    "Translate each word or sentence from English to French\n",
    "\n"
   ]
  },
  {
   "cell_type": "code",
   "execution_count": 8,
   "id": "1023fa52",
   "metadata": {},
   "outputs": [],
   "source": [
    "def Translate(rev):\n",
    "    translation_tokenized = GoogleTranslator(source='english', target='fr').translate(rev)\n",
    "    return translation_tokenized"
   ]
  },
  {
   "cell_type": "markdown",
   "id": "9489a6fb",
   "metadata": {},
   "source": [
    "Translate each word from English to French. Displaying 50 words\n",
    "\n"
   ]
  },
  {
   "cell_type": "code",
   "execution_count": 9,
   "id": "be3cc273",
   "metadata": {},
   "outputs": [
    {
     "data": {
      "text/plain": [
       "['Salut',\n",
       " 'Courir',\n",
       " 'Qui',\n",
       " 'Ouah',\n",
       " 'Feu',\n",
       " 'Aider',\n",
       " 'Saut',\n",
       " 'Arrêt',\n",
       " 'Attendre',\n",
       " 'Continue',\n",
       " 'Bonjour',\n",
       " 'Je vois',\n",
       " \"J'essaye\",\n",
       " \"J'ai gagné\",\n",
       " \"J'ai gagné\",\n",
       " 'Oh non',\n",
       " 'Attaque',\n",
       " 'Acclamations',\n",
       " 'Se lever',\n",
       " 'Allez maintenant',\n",
       " \"J'ai compris\",\n",
       " \"J'ai compris\",\n",
       " 'Monter dedans',\n",
       " 'Donne moi un câlin',\n",
       " 'je suis tombé',\n",
       " 'je sais',\n",
       " 'Je suis parti',\n",
       " \"j'ai menti\",\n",
       " \"J'ai perdu\",\n",
       " \"j'ai payé\",\n",
       " \"J'ai 19 ans\",\n",
       " 'Je vais bien',\n",
       " 'Ecoutez',\n",
       " 'Certainement pas',\n",
       " 'Vraiment',\n",
       " 'Merci',\n",
       " 'Nous essayons',\n",
       " 'Nous avons gagné',\n",
       " 'Demander à Tom',\n",
       " 'Impressionnant',\n",
       " 'Sois calme',\n",
       " 'Soit cool',\n",
       " 'Être juste',\n",
       " 'Etre gentil',\n",
       " 'Sois gentil',\n",
       " 'Batte-le',\n",
       " 'Appelez-moi',\n",
       " 'Appelez-nous',\n",
       " 'Entrez',\n",
       " 'Allez']"
      ]
     },
     "execution_count": 9,
     "metadata": {},
     "output_type": "execute_result"
    }
   ],
   "source": [
    "Trans_French_Words = [Translate(r) for r in Trans_En[\"English Words\"].head(50)]\n",
    "Trans_French_Words"
   ]
  },
  {
   "cell_type": "markdown",
   "id": "21fc49c0",
   "metadata": {},
   "source": [
    "Translate each sentence from English to French. Displaying 50 sentences\n",
    "\n"
   ]
  },
  {
   "cell_type": "code",
   "execution_count": 10,
   "id": "87fd8218",
   "metadata": {},
   "outputs": [
    {
     "data": {
      "text/plain": [
       "[\"Ma mère m'a toujours dit que je devais mettre de l'argent à la banque tous les mois pour avoir assez d'argent en cas d'urgence\",\n",
       " 'La différence entre le mot juste et presque le mot juste est la différence entre la foudre et le bogue de la foudre',\n",
       " 'Nous voyons avec nos yeux nous entendons avec nos oreilles nous touchons avec notre peau nous sentons avec notre nez et nous goûtons avec notre langue',\n",
       " \"Si vous ne prenez pas de petit-déjeuner, vous aurez probablement faim le matin et vous ne serez pas aussi efficace au travail que vous pourriez l'être.\",\n",
       " \"L'un des avantages d'être vieux est que vous ne désirez plus toutes les choses que vous ne pouviez pas vous permettre d'acheter quand vous étiez jeune.\",\n",
       " \"Je regardais beaucoup cet anime quand j'étais enfant mais je ne me souviens pas très bien de ce qui est arrivé au héros dans l'épisode final\",\n",
       " \"Dans le même laps de temps qu'il me faudrait pour corriger toutes les erreurs de votre rapport, je pourrais écrire un meilleur rapport moi-même\",\n",
       " 'La langue anglaise est sans aucun doute le moyen de communication internationale le plus simple et en même temps le plus efficace.',\n",
       " \"Je pensais avoir payé les frais mensuels mais j'ai reçu un appel téléphonique de l'école disant que la facture devait encore être payée\",\n",
       " 'Une bonne relation repose sur deux grands principes. Premièrement, appréciez vos similitudes et deuxièmement, respectez vos différences.',\n",
       " 'Selon le contrat, vous pouvez prendre trois jours de congé de deuil pour les funérailles de votre oncle mais un seul pour les funérailles de votre neveu.',\n",
       " \"Les prix des denrées alimentaires sont à leur plus haut niveau depuis que l'Organisation des Nations Unies pour l'alimentation et l'agriculture a commencé à tenir des registres en 1990\",\n",
       " \"Si on a le droit de vivre alors on devrait aussi avoir le droit de mourir Sinon alors vivre n'est pas un droit mais une obligation\",\n",
       " \"C'était déjà assez grave qu'il arrive généralement au travail tard, mais arriver ivre était la goutte d'eau et je vais devoir le laisser partir\",\n",
       " \"L'enseignante qui surveillait la cour de récréation s'est inquiétée lorsqu'elle a vu un homme parler à certains des enfants par-dessus la clôture de l'école\",\n",
       " 'Les villes et les provinces situées le long du fleuve Yangtze, dans le centre de la Chine, sont aux prises avec la pire sécheresse du pays depuis plus de 50 ans',\n",
       " \"Cette proposition peut être un moyen de faire d'une pierre deux coups, mais nous devons également faire attention à ne pas devenir gourmand et tout gâcher.\",\n",
       " 'Un comité est un groupe de personnes qui individuellement ne peuvent rien faire mais qui, en tant que groupe, peuvent se réunir et décider que rien ne peut être fait',\n",
       " \"Mon petit-déjeuner se compose généralement de café au lait un morceau de pain et de confiture une petite banane un morceau d'orange et quelques prunes séchées\",\n",
       " \"L'une des meilleures façons de nous aider est de traduire d'une langue étrangère que vous connaissez vers votre propre langue maternelle ou votre langue la plus forte.\",\n",
       " \"Comme il va bientôt faire froid, il pourrait être agréable de faire quelque chose à l'extérieur les derniers jours chauds que nous avons avant que l'hiver ne s'installe.\",\n",
       " \"Les gens ont tendance à ne vous complimenter sur vos compétences linguistiques que lorsqu'il est évident que vous n'avez toujours pas l'air d'un locuteur natif.\",\n",
       " \"Un homme qui n'est jamais allé à l'école peut voler un wagon de marchandises, mais s'il a fait des études universitaires, il peut voler tout le chemin de fer.\",\n",
       " \"Qu'est-ce que la vieillesse D'abord vous oubliez les noms puis vous oubliez les visages puis vous oubliez de remonter votre fermeture éclair puis vous oubliez de la baisser\",\n",
       " \"Lui et moi avons une compréhension quasi télépathique l'un de l'autre Dès que l'un de nous dit quelque chose, l'autre répond déjà\",\n",
       " \"Bien que les forêts tropicales ne représentent que 2 % de la surface de la terre, plus de la moitié des espèces sauvages d'animaux et d'insectes du monde y vivent.\",\n",
       " 'Elle a un petit ami avec qui elle sort depuis le lycée mais elle sent que leur relation a stagné alors elle est insatisfaite',\n",
       " \"Si vous emmenez un enfant dehors et pointez la lune, l'enfant regardera la lune Si vous faites la même chose avec un chien, il regardera votre doigt\",\n",
       " \"Si vous traduisez de votre deuxième langue vers votre propre langue maternelle plutôt que l'inverse, vous êtes moins susceptible de faire des erreurs\",\n",
       " \"J'adore essayer de nouvelles choses, donc j'achète toujours les produits dès qu'ils arrivent dans les rayons des magasins Bien sûr, la moitié du temps, je finis par souhaiter ne pas l'avoir fait\",\n",
       " \"Une bonne théorie se caractérise par le fait qu'elle fait un certain nombre de prédictions qui pourraient en principe être réfutées ou falsifiées par l'observation\",\n",
       " \"Une planète semblable à la Terre, dont on pense qu'elle a des conditions propices à la vie telle que nous la connaissons, a été découverte à 500 années-lumière de la Terre\",\n",
       " 'Plus vous passez de temps à parler une langue étrangère, mieux vous arrivez à deviner ce que des locuteurs non natifs essaient de dire dans votre propre langue',\n",
       " \"L'enquête a conclu que malgré ses démentis, le directeur général aurait dû être au courant des pratiques illégales en cours dans l'entreprise.\",\n",
       " \"Le père de Roger Miller est mort alors qu'il n'avait qu'un an et sa mère est tombée malade peu de temps après, il a donc été envoyé vivre avec son oncle à Erick Oklahoma\",\n",
       " \"Vous n'apprendrez peut-être pas à parler aussi bien qu'un locuteur natif, mais vous devriez être capable de parler suffisamment bien pour que les locuteurs natifs comprennent ce que vous avez à dire.\",\n",
       " \"Et la bonne nouvelle, c'est qu'aujourd'hui l'économie est à nouveau en croissance. Les revenus salariaux, la valeur des maisons et les comptes de retraite augmentent à nouveau.\",\n",
       " \"Les cigarettes électroniques sont promues comme une alternative saine aux cigarettes de tabac, mais les autorités sanitaires s'inquiètent des effets à long terme sur la santé des utilisateurs\",\n",
       " \"Il est encore trop difficile de trouver un emploi Et même si vous avez des chances d'obtenir un emploi, vous avez plus de mal à payer les coûts croissants de tout, de l'épicerie à l'essence\",\n",
       " \"Même à la fin du XIXe siècle, les marins de la marine britannique n'étaient pas autorisés à utiliser des couteaux et des fourchettes car leur utilisation était considérée comme un signe de faiblesse.\",\n",
       " \"Cinq tremblements de magnitude supérieure à 5 0 sur l'échelle de Richter ont secoué le Japon cette semaine, mais les scientifiques préviennent que la plus grande réplique attendue n'a pas encore frappé\",\n",
       " \"Peu importe à quel point vous essayez de convaincre les gens que le chocolat est de la vanille, ce sera toujours du chocolat, même si vous parvenez à vous convaincre, ainsi que quelques autres, que c'est de la vanille.\",\n",
       " \"Un enfant qui est un locuteur natif sait généralement beaucoup de choses sur sa langue qu'un locuteur non natif qui étudie depuis des années ne sait toujours pas et ne saura peut-être jamais\",\n",
       " \"Il existe quatre causes principales de décès liés à l'alcool. Les blessures causées par des accidents de voiture ou la violence en sont une. Des maladies comme la cirrhose du foie, le cancer du cœur et les maladies du système sanguin sont les autres.\",\n",
       " \"Nous devons faire respecter les lois contre la discrimination à l'embauche, au logement, à l'éducation et dans le système de justice pénale C'est ce que notre Constitution et nos idéaux les plus élevés exigent\",\n",
       " \"L'économie descendante ne fonctionne jamais, a déclaré Obama Le pays ne réussit pas lorsque seuls ceux qui sont au sommet se portent bien Nous réussissons lorsque la classe moyenne s'agrandit lorsqu'elle se sent plus en sécurité\",\n",
       " \"Une empreinte carbone est la quantité de dioxyde de carbone que nous produisons à la suite de nos activités Certaines personnes essaient de réduire leur empreinte carbone parce qu'elles sont préoccupées par le changement climatique\",\n",
       " \"La mort est quelque chose dont nous sommes souvent découragés de parler ou même de penser, mais j'ai réalisé que se préparer à la mort est l'une des choses les plus stimulantes que vous puissiez faire Penser à la mort clarifie votre vie\",\n",
       " \"Comme il existe généralement plusieurs sites Web sur un sujet donné, je clique généralement sur le bouton de retour lorsque j'arrive sur une page Web contenant des publicités contextuelles. Je vais simplement à la page suivante trouvée par Google et j'espère quelque chose de moins irritant.\",\n",
       " \"Si quelqu'un qui ne connaît pas vos antécédents dit que vous parlez comme un locuteur natif, cela signifie qu'il a probablement remarqué quelque chose dans votre façon de parler qui lui a fait réaliser que vous n'étiez pas un locuteur natif. En d'autres termes, vous ne parlez pas vraiment comme un locuteur natif.\"]"
      ]
     },
     "execution_count": 10,
     "metadata": {},
     "output_type": "execute_result"
    }
   ],
   "source": [
    "Trans_French_Sentence = [Translate(r) for r in Trans_En[\"English Words\"].tail(50)]\n",
    "Trans_French_Sentence"
   ]
  },
  {
   "cell_type": "markdown",
   "id": "eac70441",
   "metadata": {},
   "source": [
    "Translate each word or sentence from English to German\n",
    "\n"
   ]
  },
  {
   "cell_type": "code",
   "execution_count": 11,
   "id": "de31fb6f",
   "metadata": {},
   "outputs": [],
   "source": [
    "def Translate_De(rev):\n",
    "    translation_tokenized = GoogleTranslator(source='english', target='de').translate(rev)\n",
    "    return translation_tokenized"
   ]
  },
  {
   "cell_type": "markdown",
   "id": "bb7eb9fa",
   "metadata": {},
   "source": [
    "Translate each word from English to German. Displaying 50 words\n",
    "\n"
   ]
  },
  {
   "cell_type": "code",
   "execution_count": 12,
   "id": "1335d311",
   "metadata": {},
   "outputs": [
    {
     "data": {
      "text/plain": [
       "['Hi',\n",
       " 'Laufen',\n",
       " 'Wer',\n",
       " 'Wow',\n",
       " 'Feuer',\n",
       " 'Hilfe',\n",
       " 'Springen',\n",
       " 'Halt',\n",
       " 'Warte ab',\n",
       " 'Mach weiter',\n",
       " 'Hallo',\n",
       " 'Aha',\n",
       " 'ich versuche',\n",
       " 'ich habe gewonnen',\n",
       " 'ich habe gewonnen',\n",
       " 'Ach nein',\n",
       " 'Attacke',\n",
       " 'Prost',\n",
       " 'Steh auf',\n",
       " 'Geh jetzt',\n",
       " 'Ich habs',\n",
       " 'Ich habs',\n",
       " 'Steigen Sie ein',\n",
       " 'Umarme mich',\n",
       " 'Ich fiel',\n",
       " 'Ich weiss',\n",
       " 'Ich ging weg',\n",
       " 'ich habe gelogen',\n",
       " 'Ich habe verloren',\n",
       " 'ich habe bezahlt',\n",
       " 'Ich bin 19',\n",
       " 'Ich bin OK',\n",
       " 'Hör mal zu',\n",
       " 'Auf keinen Fall',\n",
       " 'Wirklich',\n",
       " 'Vielen Dank',\n",
       " 'Wir versuchen',\n",
       " 'Wir haben gewonnen',\n",
       " 'Frag Tom',\n",
       " 'Genial',\n",
       " 'Ruhig sein',\n",
       " 'Sei cool',\n",
       " 'Sei fair',\n",
       " 'Sei freundlich',\n",
       " 'Sei nett',\n",
       " 'Mach dich vom Acker',\n",
       " 'Ruf mich an',\n",
       " 'Rufen Sie uns an',\n",
       " 'Komm herein',\n",
       " 'Komm schon']"
      ]
     },
     "execution_count": 12,
     "metadata": {},
     "output_type": "execute_result"
    }
   ],
   "source": [
    "Trans_German_Words = [Translate_De(r) for r in Trans_En[\"English Words\"].head(50)]\n",
    "Trans_German_Words"
   ]
  },
  {
   "cell_type": "markdown",
   "id": "722e39f8",
   "metadata": {},
   "source": [
    "Translate each sentence from English to German. Displaying 50 sentences\n",
    "\n"
   ]
  },
  {
   "cell_type": "code",
   "execution_count": 13,
   "id": "bac4bdf1",
   "metadata": {},
   "outputs": [
    {
     "data": {
      "text/plain": [
       "['Meine Mutter hat mir immer gesagt, dass ich jeden Monat Geld auf die Bank legen soll, damit ich im Notfall genug Geld habe',\n",
       " 'Der Unterschied zwischen dem richtigen Wort und dem fast richtigen Wort ist der Unterschied zwischen Blitz und Blitzkäfer',\n",
       " 'Wir sehen mit unseren Augen, wir hören mit unseren Ohren, wir berühren mit unserer Haut, wir riechen mit unserer Nase und wir schmecken mit unserer Zunge',\n",
       " 'Wenn Sie nicht frühstücken, werden Sie wahrscheinlich morgens hungrig sein und bei der Arbeit nicht so effizient sein, wie Sie es sein könnten',\n",
       " 'Ein Vorteil des Altseins ist, dass man sich all die Dinge, die man sich in jungen Jahren nicht leisten konnte, nicht mehr wünscht',\n",
       " 'Ich habe diesen Anime oft gesehen, als ich ein Kind war, aber ich kann mich nicht genau erinnern, was mit dem Helden in der letzten Folge passiert ist',\n",
       " 'In der gleichen Zeit, die ich brauchen würde, um alle Fehler in Ihrem Bericht zu korrigieren, könnte ich selbst einen besseren Bericht schreiben',\n",
       " 'Die englische Sprache ist zweifellos das einfachste und zugleich effizienteste Mittel der internationalen Kommunikation',\n",
       " 'Ich dachte, ich hätte die monatliche Gebühr bezahlt, aber ich erhielt einen Anruf von der Schule, dass die Rechnung noch bezahlt werden muss',\n",
       " 'Eine großartige Beziehung basiert auf zwei Hauptprinzipien: Schätzen Sie erstens Ihre Ähnlichkeiten und respektieren Sie zweitens Ihre Unterschiede',\n",
       " 'Laut Vertrag dürfen Sie für die Beerdigung Ihres Onkels drei Tage Trauerurlaub nehmen, für die Beerdigung Ihres Neffen aber nur einen',\n",
       " 'Die Lebensmittelpreise sind auf dem höchsten Stand, seit die Ernährungs- und Landwirtschaftsorganisation der Vereinten Nationen 1990 damit begann, Aufzeichnungen zu führen',\n",
       " 'Wenn man das Recht zu leben hat, sollte man auch das Recht zu sterben haben. Wenn nicht, dann ist das Leben kein Recht, sondern eine Pflicht',\n",
       " 'Es war schon schlimm genug, dass er normalerweise zu spät zur Arbeit kam, aber betrunken hereinzukommen, war der letzte Strohhalm und ich muss ihn gehen lassen',\n",
       " 'Die Lehrerin, die den Spielplatz beaufsichtigte, wurde besorgt, als sie sah, wie ein Mann über den Schulzaun hinweg mit einigen der Kinder sprach',\n",
       " 'Städte und Provinzen entlang des Jangtse in Zentralchina kämpfen mit der schlimmsten Dürre des Landes seit mehr als 50 Jahren',\n",
       " 'Dieser Vorschlag mag ein Weg sein, zwei Fliegen mit einer Klappe zu schlagen, aber wir müssen auch aufpassen, dass wir nicht gierig werden und alles verderben',\n",
       " 'Ein Komitee ist eine Gruppe von Menschen, die einzeln nichts tun können, die sich aber als Gruppe treffen und entscheiden können, dass nichts getan werden kann',\n",
       " 'Mein Frühstück besteht normalerweise aus Kaffee mit Milch, einem Stück Brot und Marmelade, einer kleinen Banane, einem Stück Orange und getrockneten Pflaumen',\n",
       " 'Eine der besten Möglichkeiten, uns zu helfen, besteht darin, aus einer Fremdsprache, die Sie kennen, in Ihre eigene Muttersprache oder stärkste Sprache zu übersetzen',\n",
       " 'Da es bald kalt wird, könnte es schön sein, die letzten warmen Tage vor dem Wintereinbruch im Freien zu verbringen',\n",
       " 'Die Leute neigen dazu, Sie nur dann zu Ihren Sprachkenntnissen zu beglückwünschen, wenn es offensichtlich ist, dass Sie immer noch nicht wie ein Muttersprachler klingen',\n",
       " 'Ein Mann, der nie zur Schule gegangen ist, kann einen Güterwagen stehlen, aber wenn er eine Universitätsausbildung hat, kann er die ganze Eisenbahn stehlen',\n",
       " 'Was ist Alter? Zuerst vergisst du Namen, dann vergisst du Gesichter, dann vergisst du, deinen Reißverschluss hochzuziehen, dann vergisst du, ihn herunterzuziehen',\n",
       " 'Er und ich verstehen uns fast telepathisch. Kaum sagt einer von uns etwas, antwortet der andere auch schon',\n",
       " 'Obwohl Regenwälder nur zwei Prozent der Erdoberfläche ausmachen, leben dort über die Hälfte der weltweit wildlebenden Pflanzen-, Tier- und Insektenarten',\n",
       " 'Sie hat einen Freund, mit dem sie seit der High School ausgeht, aber sie hat das Gefühl, dass ihre Beziehung stagniert, also ist sie unzufrieden',\n",
       " 'Wenn Sie ein Kind nach draußen bringen und auf den Mond zeigen, wird das Kind auf den Mond schauen. Wenn Sie dasselbe mit einem Hund tun, wird es auf Ihren Finger schauen',\n",
       " 'Wenn Sie aus Ihrer Zweitsprache in Ihre eigene Muttersprache übersetzen und nicht umgekehrt, ist die Wahrscheinlichkeit geringer, dass Sie Fehler machen',\n",
       " 'Ich liebe es, neue Dinge auszuprobieren, also kaufe ich immer Produkte, sobald sie in die Regale kommen. Natürlich wünsche ich mir die Hälfte der Zeit, ich hätte es nicht getan',\n",
       " 'Eine gute Theorie zeichnet sich dadurch aus, dass sie eine Reihe von Vorhersagen trifft, die durch Beobachtung prinzipiell widerlegt oder falsifiziert werden könnten',\n",
       " 'Ein erdähnlicher Planet, von dem angenommen wird, dass er Bedingungen aufweist, die das Leben, wie wir es kennen, unterstützen würde, wurde 500 Lichtjahre von der Erde entfernt entdeckt',\n",
       " 'Je mehr Zeit Sie damit verbringen, eine Fremdsprache zu sprechen, desto besser können Sie erraten, was Nicht-Muttersprachler versuchen, in Ihrer eigenen Sprache zu sagen',\n",
       " 'Die Untersuchung ergab, dass der Vorstandsvorsitzende trotz seiner Dementis von den illegalen Praktiken im Unternehmen hätte wissen müssen',\n",
       " 'Roger Millers Vater starb, als er nur ein Jahr alt war, und seine Mutter wurde bald darauf krank, sodass er zu seinem Onkel nach Erick, Oklahoma, geschickt wurde',\n",
       " 'Sie lernen vielleicht nicht so gut zu sprechen wie ein Muttersprachler, aber Sie sollten in der Lage sein, so gut zu sprechen, dass Muttersprachler verstehen, was Sie zu sagen haben',\n",
       " 'Und die gute Nachricht ist, dass die Wirtschaft heute wieder wächst. Löhne, Immobilienwerte und Rentenkonten steigen alle wieder. Armut geht wieder zurück',\n",
       " 'E-Zigaretten werden als gesunde Alternative zu Tabakzigaretten beworben, aber die Gesundheitsbehörden sind besorgt über die langfristigen gesundheitlichen Auswirkungen auf die Benutzer',\n",
       " 'Es ist immer noch zu schwer, einen Job zu finden Und selbst wenn Sie einen Job haben, haben Sie es wahrscheinlich schwerer, die steigenden Kosten für Lebensmittel und Benzin zu bezahlen',\n",
       " 'Noch Ende des 19. Jahrhunderts durften Seeleute der britischen Marine Messer und Gabeln nicht benutzen, weil deren Gebrauch als Zeichen von Schwäche galt',\n",
       " 'Fünf Erschütterungen mit einer Stärke von über 50 auf der Richterskala haben Japan erst diese Woche erschüttert, aber Wissenschaftler warnen davor, dass das größte erwartete Nachbeben noch aussteht',\n",
       " 'Egal wie sehr Sie versuchen, die Leute davon zu überzeugen, dass Schokolade Vanille ist, es wird immer noch Schokolade sein, auch wenn Sie es schaffen, sich selbst und ein paar andere davon zu überzeugen, dass es Vanille ist',\n",
       " 'Ein Kind, das Muttersprachler ist, weiß normalerweise viele Dinge über seine Sprache, die ein Nicht-Muttersprachler, der jahrelang studiert hat, noch nicht weiß und vielleicht nie wissen wird',\n",
       " 'Es gibt vier Hauptursachen für alkoholbedingte Todesfälle. Verletzungen durch Autounfälle oder Gewalt sind eine, Krankheiten wie Leberzirrhose, Krebs, Herz- und Blutsystemerkrankungen sind die anderen',\n",
       " 'Wir müssen Gesetze gegen Diskriminierung bei der Einstellung und beim Wohnen, im Bildungswesen und im Strafjustizsystem aufrechterhalten. Das verlangen unsere Verfassung und unsere höchsten Ideale',\n",
       " 'Top-down-Ökonomie funktioniert nie, sagte Obama. Das Land hat keinen Erfolg, wenn es nur den ganz oben gut geht. Wir haben Erfolg, wenn die Mittelklasse größer wird, wenn sie sich sicherer fühlt',\n",
       " 'Ein CO2-Fußabdruck ist die Menge an Kohlendioxidverschmutzung, die wir als Ergebnis unserer Aktivitäten verursachen. Manche Menschen versuchen, ihren CO2-Fußabdruck zu verringern, weil sie sich Sorgen um den Klimawandel machen',\n",
       " 'Der Tod ist etwas, von dem wir oft entmutigt sind, darüber zu sprechen oder auch nur darüber nachzudenken, aber ich habe erkannt, dass die Vorbereitung auf den Tod eines der ermächtigendsten Dinge ist, die Sie tun können. An den Tod zu denken, klärt Ihr Leben',\n",
       " 'Da es normalerweise mehrere Websites zu einem bestimmten Thema gibt, klicke ich normalerweise einfach auf die Schaltfläche „Zurück“, wenn ich auf einer Webseite mit Popup-Werbung ankomme. Ich gehe einfach zur nächsten von Google gefundenen Seite und hoffe auf etwas weniger Irritierendes',\n",
       " 'Wenn jemand, der Ihren Hintergrund nicht kennt, sagt, dass Sie sich wie ein Muttersprachler anhören, bedeutet dies, dass er wahrscheinlich etwas an Ihrem Sprechen bemerkt hat, das ihm klar gemacht hat, dass Sie kein Muttersprachler sind. Mit anderen Worten, Sie klingen nicht wirklich wie ein Muttersprachler']"
      ]
     },
     "execution_count": 13,
     "metadata": {},
     "output_type": "execute_result"
    }
   ],
   "source": [
    "Trans_German_Sentence = [Translate_De(r) for r in Trans_En[\"English Words\"].tail(50)]\n",
    "Trans_German_Sentence"
   ]
  },
  {
   "cell_type": "markdown",
   "id": "b5e7924a",
   "metadata": {},
   "source": [
    "Translate each word or sentence from English to Spanish\n",
    "\n"
   ]
  },
  {
   "cell_type": "code",
   "execution_count": 14,
   "id": "96f7a880",
   "metadata": {},
   "outputs": [],
   "source": [
    "def Translate_Es(rev):\n",
    "    translation_tokenized = GoogleTranslator(source='english', target='es').translate(rev)\n",
    "    return translation_tokenized"
   ]
  },
  {
   "cell_type": "markdown",
   "id": "e93978dd",
   "metadata": {},
   "source": [
    "Translate each word from English to Spanish. Displaying 50 words\n",
    "\n"
   ]
  },
  {
   "cell_type": "code",
   "execution_count": 15,
   "id": "44607ec7",
   "metadata": {},
   "outputs": [
    {
     "data": {
      "text/plain": [
       "['Hola',\n",
       " 'Correr',\n",
       " 'Quién',\n",
       " 'Guau',\n",
       " 'Fuego',\n",
       " 'Ayuda',\n",
       " 'Salto',\n",
       " 'Deténgase',\n",
       " 'Esperar',\n",
       " 'Continuar',\n",
       " 'Hola',\n",
       " 'ya veo',\n",
       " 'lo intento',\n",
       " 'gané',\n",
       " 'gané',\n",
       " 'Oh, no',\n",
       " 'Ataque',\n",
       " 'Salud',\n",
       " 'Levantarse',\n",
       " 'Ve ahora',\n",
       " 'Entiendo',\n",
       " 'Entiendo',\n",
       " 'súbete',\n",
       " 'Abrázame',\n",
       " 'Me caí',\n",
       " 'lo sé',\n",
       " 'me fui',\n",
       " 'mentí',\n",
       " 'perdí',\n",
       " 'He pagado',\n",
       " 'Tengo 19',\n",
       " 'Estoy bien',\n",
       " 'Escuchar',\n",
       " 'De ninguna manera',\n",
       " 'En realidad',\n",
       " 'Gracias',\n",
       " 'Intentamos',\n",
       " 'Ganamos',\n",
       " 'preguntale a tom',\n",
       " 'Impresionante',\n",
       " 'Estate calmado',\n",
       " 'Relájate',\n",
       " 'Sé justo',\n",
       " 'Se amable',\n",
       " 'Se bueno',\n",
       " 'Batirlo',\n",
       " 'Llámame',\n",
       " 'Llámanos',\n",
       " 'Adelante',\n",
       " 'Vamos']"
      ]
     },
     "execution_count": 15,
     "metadata": {},
     "output_type": "execute_result"
    }
   ],
   "source": [
    "Trans_Spanish_Words = [Translate_Es(r) for r in Trans_En[\"English Words\"].head(50)]\n",
    "Trans_Spanish_Words"
   ]
  },
  {
   "cell_type": "markdown",
   "id": "5c08ac75",
   "metadata": {},
   "source": [
    "Translate each sentence from English to Spanish. Displaying 50 sentences\n",
    "\n"
   ]
  },
  {
   "cell_type": "code",
   "execution_count": 16,
   "id": "db4dad47",
   "metadata": {},
   "outputs": [
    {
     "data": {
      "text/plain": [
       "['Mi madre siempre me decía que debía poner dinero en el banco todos los meses para tener suficiente dinero en caso de una emergencia.',\n",
       " 'La diferencia entre la palabra correcta y casi la palabra correcta es la diferencia entre el rayo y la luciérnaga.',\n",
       " 'Vemos con nuestros ojos escuchamos con nuestros oídos tocamos con nuestra piel olemos con nuestra nariz y saboreamos con nuestra lengua',\n",
       " 'Si no desayunas, probablemente tendrás hambre durante la mañana y no serás tan eficiente en el trabajo como podrías.',\n",
       " 'Una ventaja de ser viejo es que ya no deseas todas las cosas que no podías comprar cuando eras joven.',\n",
       " 'Solía \\u200b\\u200bver mucho este anime cuando era niño, pero no recuerdo bien qué le pasó al héroe en el episodio final.',\n",
       " 'En la misma cantidad de tiempo que me tomaría corregir todos los errores en su informe, podría escribir un mejor informe yo mismo',\n",
       " 'El idioma inglés es sin duda el medio más fácil y al mismo tiempo más eficiente de comunicación internacional.',\n",
       " 'Pensé que había pagado la cuota mensual, pero recibí una llamada telefónica de la escuela que decía que aún tenía que pagar la factura.',\n",
       " 'Una gran relación se basa en dos principios fundamentales Primero aprecia tus similitudes y segundo respeta tus diferencias',\n",
       " 'De acuerdo con el contrato, puede tomar tres días de licencia por duelo para el funeral de su tío, pero solo uno para el de su sobrino.',\n",
       " 'Los precios de los alimentos están en su nivel más alto desde que la Organización de las Naciones Unidas para la Agricultura y la Alimentación comenzó a llevar registros en 1990',\n",
       " 'Si uno tiene derecho a vivir, también debería tener derecho a morir. Si no, entonces vivir no es un derecho sino una obligación.',\n",
       " 'Ya era bastante malo que normalmente llegara tarde al trabajo, pero llegar borracho fue la gota que colmó el vaso y voy a tener que dejarlo ir.',\n",
       " 'La maestra que supervisaba el patio de recreo se preocupó cuando vio a un hombre hablando con algunos de los niños por encima de la cerca de la escuela.',\n",
       " 'Las ciudades y provincias a lo largo del río Yangtze en el centro de China están lidiando con la peor sequía del país en más de 50 años.',\n",
       " 'Esa propuesta puede ser una forma de matar dos pájaros de un tiro, pero también debemos tener cuidado de no volvernos codiciosos y estropearlo todo.',\n",
       " 'Un comité es un grupo de personas que individualmente no pueden hacer nada pero que como grupo pueden reunirse y decidir que nada se puede hacer.',\n",
       " 'Mi desayuno suele constar de café con leche un trozo de pan con mermelada un plátano pequeño un trozo de naranja y unas ciruelas secas',\n",
       " 'Una de las mejores maneras de ayudarnos es traducir de un idioma extranjero que conoce a su propio idioma nativo o idioma más fuerte.',\n",
       " 'Dado que pronto hará frío, podría ser bueno disfrutar haciendo algo al aire libre los últimos días cálidos que tenemos antes de que llegue el invierno.',\n",
       " 'La gente tiende a elogiarte solo por tu habilidad lingüística cuando es evidente que todavía no suenas como un hablante nativo.',\n",
       " 'Un hombre que nunca ha ido a la escuela puede robar de un vagón de carga, pero si tiene educación universitaria, puede robar todo el ferrocarril.',\n",
       " '¿Qué es la vejez? Primero olvidas los nombres, luego olvidas las caras, luego olvidas subirte la cremallera y luego olvidas bajarla.',\n",
       " 'Él y yo nos entendemos casi telepáticamente. Tan pronto como uno de nosotros dice algo, el otro ya está respondiendo.',\n",
       " 'Aunque las selvas tropicales representan solo el dos por ciento de la superficie terrestre, más de la mitad de las especies de plantas, animales e insectos silvestres del mundo viven allí.',\n",
       " 'Tiene un novio con el que ha estado saliendo desde la escuela secundaria, pero siente que su relación se ha estancado, por lo que está insatisfecha.',\n",
       " 'Si llevas a un niño afuera y apuntas a la luna, el niño mirará la luna. Si haces lo mismo con un perro, mirará tu dedo.',\n",
       " 'Si traduce de su segundo idioma a su propio idioma nativo en lugar de hacerlo al revés, es menos probable que cometa errores.',\n",
       " 'Me encanta probar cosas nuevas, así que siempre compro productos tan pronto como llegan a los estantes de las tiendas. Por supuesto, la mitad del tiempo termino deseando no haberlo hecho.',\n",
       " 'Una buena teoría se caracteriza por el hecho de que hace una serie de predicciones que, en principio, podrían ser refutadas o falsificadas por la observación.',\n",
       " 'Un planeta similar a la Tierra que se cree que tiene condiciones que sustentarían la vida tal como la conocemos ha sido descubierto a 500 años luz de la Tierra.',\n",
       " 'Cuanto más tiempo pase hablando un idioma extranjero, mejor podrá adivinar lo que los hablantes no nativos están tratando de decir en su propio idioma.',\n",
       " 'La indagatoria concluyó que, a pesar de sus desmentidos, el primer ejecutivo tendría que haber tenido conocimiento de las prácticas ilegales que ocurren en la empresa.',\n",
       " 'El padre de Roger Miller murió cuando él tenía solo un año y su madre se enfermó poco después, por lo que lo enviaron a vivir con su tío en Erick Oklahoma.',\n",
       " 'Es posible que no aprenda a hablar tan bien como un hablante nativo, pero debe poder hablar lo suficientemente bien como para que los hablantes nativos entiendan lo que tiene que decir.',\n",
       " 'Y la buena noticia es que hoy la economía está creciendo de nuevo. Los salarios, los ingresos, el valor de la vivienda y las cuentas de jubilación están aumentando de nuevo. La pobreza está cayendo de nuevo.',\n",
       " 'Los cigarrillos electrónicos se promocionan como una alternativa saludable a los cigarrillos de tabaco, pero las autoridades sanitarias están preocupadas por los efectos a largo plazo en la salud de los usuarios.',\n",
       " 'Todavía es demasiado difícil encontrar un trabajo E incluso si tiene un trabajo, es probable que le resulte más difícil pagar los costos crecientes de todo, desde comestibles hasta gasolina.',\n",
       " 'Incluso a fines del siglo XIX, a los marineros de la Marina británica no se les permitía usar cuchillos y tenedores porque usarlos se consideraba un signo de debilidad.',\n",
       " 'Cinco temblores de magnitud superior a 50 en la escala de Richter sacudieron Japón esta semana, pero los científicos advierten que la mayor réplica esperada aún no se ha producido.',\n",
       " 'No importa cuánto intente convencer a la gente de que el chocolate es vainilla, seguirá siendo chocolate, aunque pueda convencerse a sí mismo y a algunos otros de que es vainilla.',\n",
       " 'Un niño que es hablante nativo por lo general sabe muchas cosas sobre su idioma que un hablante no nativo que ha estado estudiando durante años aún no sabe y quizás nunca sabrá.',\n",
       " 'Hay cuatro causas principales de muerte relacionadas con el alcohol. Las lesiones por accidentes automovilísticos o violencia son una. Las enfermedades como la cirrosis del hígado. El cáncer. Las enfermedades del corazón y del sistema sanguíneo son las otras.',\n",
       " 'Necesitamos defender las leyes contra la discriminación en la contratación y en la vivienda y en la educación y en el sistema de justicia penal. Eso es lo que exige nuestra Constitución y nuestros más altos ideales.',\n",
       " 'La economía de arriba hacia abajo nunca funciona, dijo Obama. El país no tiene éxito cuando solo a los que están en la cima les va bien. Tenemos éxito cuando la clase media crece cuando se siente más segura.',\n",
       " 'Una huella de carbono es la cantidad de contaminación por dióxido de carbono que producimos como resultado de nuestras actividades. Algunas personas intentan reducir su huella de carbono porque les preocupa el cambio climático.',\n",
       " 'La muerte es algo de lo que a menudo nos desanimamos a hablar o incluso pensar, pero me he dado cuenta de que prepararse para la muerte es una de las cosas más poderosas que puedes hacer. Pensar en la muerte aclara tu vida.',\n",
       " 'Dado que generalmente hay varios sitios web sobre un tema determinado, generalmente solo hago clic en el botón Atrás cuando llego a cualquier página web que tiene publicidad emergente. Simplemente voy a la siguiente página que encuentra Google y espero algo menos irritante.',\n",
       " 'Si alguien que no conoce tus antecedentes dice que hablas como un hablante nativo, significa que probablemente notó algo en tu forma de hablar que les hizo darse cuenta de que no eras un hablante nativo. En otras palabras, realmente no suenas como un hablante nativo.']"
      ]
     },
     "execution_count": 16,
     "metadata": {},
     "output_type": "execute_result"
    }
   ],
   "source": [
    "Trans_Spanish_Sentence = [Translate_Es(r) for r in Trans_En[\"English Words\"].tail(50)]\n",
    "Trans_Spanish_Sentence"
   ]
  },
  {
   "cell_type": "markdown",
   "id": "2d27ff3e",
   "metadata": {},
   "source": [
    "# Task-2 Create a program that needs to automatically correct that spelling from the word or a given sentence. (Language : English)\n",
    "\n"
   ]
  },
  {
   "cell_type": "code",
   "execution_count": 17,
   "id": "8c34a8a4",
   "metadata": {},
   "outputs": [
    {
     "name": "stdout",
     "output_type": "stream",
     "text": [
      "Collecting pyspellchecker\n",
      "  Downloading pyspellchecker-0.7.0-py3-none-any.whl (2.5 MB)\n",
      "     ---------------------------------------- 2.5/2.5 MB 9.2 MB/s eta 0:00:00\n",
      "Installing collected packages: pyspellchecker\n",
      "Successfully installed pyspellchecker-0.7.0\n"
     ]
    }
   ],
   "source": [
    "!pip install pyspellchecker"
   ]
  },
  {
   "cell_type": "markdown",
   "id": "c8bdb888",
   "metadata": {},
   "source": [
    "Spell correction for words\n",
    "\n"
   ]
  },
  {
   "cell_type": "code",
   "execution_count": 18,
   "id": "9203a665",
   "metadata": {},
   "outputs": [
    {
     "name": "stdout",
     "output_type": "stream",
     "text": [
      "apparent\n",
      "necessary\n",
      "accommodate\n",
      "exceed\n",
      "medieval\n",
      "acknowledge\n",
      "water\n",
      "computer\n",
      "becoming\n",
      "extreme\n",
      "cemetery\n",
      "guidance\n",
      "intelligence\n",
      "category\n",
      "equipment\n",
      "write\n",
      "experience\n",
      "amateur\n",
      "concede\n",
      "marshmallow\n",
      "kernel\n",
      "camouflage\n",
      "definite\n",
      "disastrous\n",
      "atheist\n",
      "inoculate\n",
      "original\n",
      "hierarchy\n",
      "outrageous\n",
      "dumbbell\n",
      "caught\n",
      "gauge\n",
      "neighbor\n",
      "library\n",
      "congratulate\n",
      "dilemma\n",
      "grateful\n",
      "acceptable\n",
      "miniature\n",
      "benefit\n"
     ]
    }
   ],
   "source": [
    "from spellchecker import SpellChecker\n",
    " \n",
    "specheck = SpellChecker()\n",
    "\n",
    "misspelled_words = specheck.unknown([\"cmputr\", \"watr\", \"wriet\", \"athist\", \"acceptible\", \"benifit\", \"acommodate\", \"amatuer\", \"acknowlege\", \"becomeing\", \n",
    "                            \"camoflague\", \"catagory\", \"cauhgt\", \"cematery\", \"apparrent\", \"congradulate\", \"conceed\", \"definit\", \"disasterous\", \"dilema\",\n",
    "                            \"equiptment \", \"excede\", \"experiance\", \"innoculate\", \"extreem\", \"guage\", \"gratful\", \"guidence\", \"heirarchy\", \"dumbell\",\n",
    "                            \"necessery\", \"inteligence\", \"kernal\", \"libary\", \"outragous\", \"marshmellow\", \"miniture\", \"medeval\", \"nieghbor\", \"origenal\"])\n",
    "\n",
    "for word in misspelled_words:\n",
    "    print(specheck.correction(word))"
   ]
  },
  {
   "cell_type": "code",
   "execution_count": 25,
   "id": "b479b426",
   "metadata": {},
   "outputs": [
    {
     "name": "stdout",
     "output_type": "stream",
     "text": [
      "Collecting swig\n",
      "  Downloading swig-4.1.0-py2.py3-none-win_amd64.whl (2.5 MB)\n",
      "     ---------------------------------------- 2.5/2.5 MB 9.9 MB/s eta 0:00:00\n",
      "Installing collected packages: swig\n",
      "Successfully installed swig-4.1.0\n"
     ]
    }
   ],
   "source": [
    "!pip install swig"
   ]
  },
  {
   "cell_type": "code",
   "execution_count": 26,
   "id": "74c85e28",
   "metadata": {},
   "outputs": [
    {
     "name": "stdout",
     "output_type": "stream",
     "text": [
      "Collecting jamspell\n",
      "  Downloading jamspell-0.0.12.tar.gz (174 kB)\n",
      "     -------------------------------------- 174.3/174.3 kB 2.6 MB/s eta 0:00:00\n",
      "  Preparing metadata (setup.py): started\n",
      "  Preparing metadata (setup.py): finished with status 'done'\n",
      "Building wheels for collected packages: jamspell\n",
      "  Building wheel for jamspell (setup.py): started\n",
      "  Building wheel for jamspell (setup.py): finished with status 'error'\n",
      "  Running setup.py clean for jamspell\n",
      "Failed to build jamspell\n",
      "Installing collected packages: jamspell\n",
      "  Running setup.py install for jamspell: started\n",
      "  Running setup.py install for jamspell: finished with status 'error'\n"
     ]
    },
    {
     "name": "stderr",
     "output_type": "stream",
     "text": [
      "  error: subprocess-exited-with-error\n",
      "  \n",
      "  python setup.py bdist_wheel did not run successfully.\n",
      "  exit code: 1\n",
      "  \n",
      "  [52 lines of output]\n",
      "  C:\\Users\\ashle\\anaconda3\\lib\\site-packages\\setuptools\\dist.py:771: UserWarning: Usage of dash-separated 'description-file' will not be supported in future versions. Please use the underscore name 'description_file' instead\n",
      "    warnings.warn(\n",
      "  running bdist_wheel\n",
      "  running build\n",
      "  running build_ext\n",
      "  building '_jamspell' extension\n",
      "  Traceback (most recent call last):\n",
      "    File \"<string>\", line 2, in <module>\n",
      "    File \"<pip-setuptools-caller>\", line 34, in <module>\n",
      "    File \"C:\\Users\\ashle\\AppData\\Local\\Temp\\pip-install-tn3cn760\\jamspell_cec44fc9778b4e5fa7fdb188e4b952a9\\setup.py\", line 55, in <module>\n",
      "      setup(\n",
      "    File \"C:\\Users\\ashle\\anaconda3\\lib\\site-packages\\setuptools\\__init__.py\", line 87, in setup\n",
      "      return distutils.core.setup(**attrs)\n",
      "    File \"C:\\Users\\ashle\\anaconda3\\lib\\site-packages\\setuptools\\_distutils\\core.py\", line 185, in setup\n",
      "      return run_commands(dist)\n",
      "    File \"C:\\Users\\ashle\\anaconda3\\lib\\site-packages\\setuptools\\_distutils\\core.py\", line 201, in run_commands\n",
      "      dist.run_commands()\n",
      "    File \"C:\\Users\\ashle\\anaconda3\\lib\\site-packages\\setuptools\\_distutils\\dist.py\", line 973, in run_commands\n",
      "      self.run_command(cmd)\n",
      "    File \"C:\\Users\\ashle\\anaconda3\\lib\\site-packages\\setuptools\\dist.py\", line 1217, in run_command\n",
      "      super().run_command(command)\n",
      "    File \"C:\\Users\\ashle\\anaconda3\\lib\\site-packages\\setuptools\\_distutils\\dist.py\", line 992, in run_command\n",
      "      cmd_obj.run()\n",
      "    File \"C:\\Users\\ashle\\anaconda3\\lib\\site-packages\\wheel\\bdist_wheel.py\", line 299, in run\n",
      "      self.run_command('build')\n",
      "    File \"C:\\Users\\ashle\\anaconda3\\lib\\site-packages\\setuptools\\_distutils\\cmd.py\", line 319, in run_command\n",
      "      self.distribution.run_command(command)\n",
      "    File \"C:\\Users\\ashle\\anaconda3\\lib\\site-packages\\setuptools\\dist.py\", line 1217, in run_command\n",
      "      super().run_command(command)\n",
      "    File \"C:\\Users\\ashle\\anaconda3\\lib\\site-packages\\setuptools\\_distutils\\dist.py\", line 992, in run_command\n",
      "      cmd_obj.run()\n",
      "    File \"C:\\Users\\ashle\\AppData\\Local\\Temp\\pip-install-tn3cn760\\jamspell_cec44fc9778b4e5fa7fdb188e4b952a9\\setup.py\", line 37, in run\n",
      "      self.run_command('build_ext')\n",
      "    File \"C:\\Users\\ashle\\anaconda3\\lib\\site-packages\\setuptools\\_distutils\\cmd.py\", line 319, in run_command\n",
      "      self.distribution.run_command(command)\n",
      "    File \"C:\\Users\\ashle\\anaconda3\\lib\\site-packages\\setuptools\\dist.py\", line 1217, in run_command\n",
      "      super().run_command(command)\n",
      "    File \"C:\\Users\\ashle\\anaconda3\\lib\\site-packages\\setuptools\\_distutils\\dist.py\", line 992, in run_command\n",
      "      cmd_obj.run()\n",
      "    File \"C:\\Users\\ashle\\anaconda3\\lib\\site-packages\\setuptools\\_distutils\\command\\build_ext.py\", line 346, in run\n",
      "      self.build_extensions()\n",
      "    File \"C:\\Users\\ashle\\anaconda3\\lib\\site-packages\\setuptools\\_distutils\\command\\build_ext.py\", line 466, in build_extensions\n",
      "      self._build_extensions_serial()\n",
      "    File \"C:\\Users\\ashle\\anaconda3\\lib\\site-packages\\setuptools\\_distutils\\command\\build_ext.py\", line 492, in _build_extensions_serial\n",
      "      self.build_extension(ext)\n",
      "    File \"C:\\Users\\ashle\\anaconda3\\lib\\site-packages\\setuptools\\_distutils\\command\\build_ext.py\", line 525, in build_extension\n",
      "      sources = self.swig_sources(sources, ext)\n",
      "    File \"C:\\Users\\ashle\\anaconda3\\lib\\site-packages\\setuptools\\_distutils\\command\\build_ext.py\", line 623, in swig_sources\n",
      "      swig = self.swig or self.find_swig()\n",
      "    File \"C:\\Users\\ashle\\AppData\\Local\\Temp\\pip-install-tn3cn760\\jamspell_cec44fc9778b4e5fa7fdb188e4b952a9\\setup.py\", line 50, in find_swig\n",
      "      assert subprocess.check_output([swigBinary, \"-version\"]).find(b'SWIG Version 3') != -1\n",
      "  AssertionError\n",
      "  [end of output]\n",
      "  \n",
      "  note: This error originates from a subprocess, and is likely not a problem with pip.\n",
      "  ERROR: Failed building wheel for jamspell\n",
      "  error: subprocess-exited-with-error\n",
      "  \n",
      "  Running setup.py install for jamspell did not run successfully.\n",
      "  exit code: 1\n",
      "  \n",
      "  [45 lines of output]\n",
      "  C:\\Users\\ashle\\anaconda3\\lib\\site-packages\\setuptools\\dist.py:771: UserWarning: Usage of dash-separated 'description-file' will not be supported in future versions. Please use the underscore name 'description_file' instead\n",
      "    warnings.warn(\n",
      "  running install\n",
      "  C:\\Users\\ashle\\anaconda3\\lib\\site-packages\\setuptools\\command\\install.py:34: SetuptoolsDeprecationWarning: setup.py install is deprecated. Use build and pip and other standards-based tools.\n",
      "    warnings.warn(\n",
      "  running build_ext\n",
      "  building '_jamspell' extension\n",
      "  Traceback (most recent call last):\n",
      "    File \"<string>\", line 2, in <module>\n",
      "    File \"<pip-setuptools-caller>\", line 34, in <module>\n",
      "    File \"C:\\Users\\ashle\\AppData\\Local\\Temp\\pip-install-tn3cn760\\jamspell_cec44fc9778b4e5fa7fdb188e4b952a9\\setup.py\", line 55, in <module>\n",
      "      setup(\n",
      "    File \"C:\\Users\\ashle\\anaconda3\\lib\\site-packages\\setuptools\\__init__.py\", line 87, in setup\n",
      "      return distutils.core.setup(**attrs)\n",
      "    File \"C:\\Users\\ashle\\anaconda3\\lib\\site-packages\\setuptools\\_distutils\\core.py\", line 185, in setup\n",
      "      return run_commands(dist)\n",
      "    File \"C:\\Users\\ashle\\anaconda3\\lib\\site-packages\\setuptools\\_distutils\\core.py\", line 201, in run_commands\n",
      "      dist.run_commands()\n",
      "    File \"C:\\Users\\ashle\\anaconda3\\lib\\site-packages\\setuptools\\_distutils\\dist.py\", line 973, in run_commands\n",
      "      self.run_command(cmd)\n",
      "    File \"C:\\Users\\ashle\\anaconda3\\lib\\site-packages\\setuptools\\dist.py\", line 1217, in run_command\n",
      "      super().run_command(command)\n",
      "    File \"C:\\Users\\ashle\\anaconda3\\lib\\site-packages\\setuptools\\_distutils\\dist.py\", line 992, in run_command\n",
      "      cmd_obj.run()\n",
      "    File \"C:\\Users\\ashle\\AppData\\Local\\Temp\\pip-install-tn3cn760\\jamspell_cec44fc9778b4e5fa7fdb188e4b952a9\\setup.py\", line 43, in run\n",
      "      self.run_command('build_ext')\n",
      "    File \"C:\\Users\\ashle\\anaconda3\\lib\\site-packages\\setuptools\\_distutils\\cmd.py\", line 319, in run_command\n",
      "      self.distribution.run_command(command)\n",
      "    File \"C:\\Users\\ashle\\anaconda3\\lib\\site-packages\\setuptools\\dist.py\", line 1217, in run_command\n",
      "      super().run_command(command)\n",
      "    File \"C:\\Users\\ashle\\anaconda3\\lib\\site-packages\\setuptools\\_distutils\\dist.py\", line 992, in run_command\n",
      "      cmd_obj.run()\n",
      "    File \"C:\\Users\\ashle\\anaconda3\\lib\\site-packages\\setuptools\\_distutils\\command\\build_ext.py\", line 346, in run\n",
      "      self.build_extensions()\n",
      "    File \"C:\\Users\\ashle\\anaconda3\\lib\\site-packages\\setuptools\\_distutils\\command\\build_ext.py\", line 466, in build_extensions\n",
      "      self._build_extensions_serial()\n",
      "    File \"C:\\Users\\ashle\\anaconda3\\lib\\site-packages\\setuptools\\_distutils\\command\\build_ext.py\", line 492, in _build_extensions_serial\n",
      "      self.build_extension(ext)\n",
      "    File \"C:\\Users\\ashle\\anaconda3\\lib\\site-packages\\setuptools\\_distutils\\command\\build_ext.py\", line 525, in build_extension\n",
      "      sources = self.swig_sources(sources, ext)\n",
      "    File \"C:\\Users\\ashle\\anaconda3\\lib\\site-packages\\setuptools\\_distutils\\command\\build_ext.py\", line 623, in swig_sources\n",
      "      swig = self.swig or self.find_swig()\n",
      "    File \"C:\\Users\\ashle\\AppData\\Local\\Temp\\pip-install-tn3cn760\\jamspell_cec44fc9778b4e5fa7fdb188e4b952a9\\setup.py\", line 50, in find_swig\n",
      "      assert subprocess.check_output([swigBinary, \"-version\"]).find(b'SWIG Version 3') != -1\n",
      "  AssertionError\n",
      "  [end of output]\n",
      "  \n",
      "  note: This error originates from a subprocess, and is likely not a problem with pip.\n",
      "error: legacy-install-failure\n",
      "\n",
      "Encountered error while trying to install package.\n",
      "\n",
      "jamspell\n",
      "\n",
      "note: This is an issue with the package mentioned above, not pip.\n",
      "hint: See above for output from the failure.\n"
     ]
    }
   ],
   "source": [
    "!pip install jamspell"
   ]
  },
  {
   "cell_type": "code",
   "execution_count": 30,
   "id": "ee46704b",
   "metadata": {},
   "outputs": [
    {
     "name": "stdout",
     "output_type": "stream",
     "text": [
      "Collecting wget\n",
      "  Downloading wget-3.2.zip (10 kB)\n",
      "  Preparing metadata (setup.py): started\n",
      "  Preparing metadata (setup.py): finished with status 'done'\n",
      "Building wheels for collected packages: wget\n",
      "  Building wheel for wget (setup.py): started\n",
      "  Building wheel for wget (setup.py): finished with status 'done'\n",
      "  Created wheel for wget: filename=wget-3.2-py3-none-any.whl size=9657 sha256=ae836fc4421ccc792a9fd214f1d7085563b696d334bc10355e4a0ed76cf14d43\n",
      "  Stored in directory: c:\\users\\ashle\\appdata\\local\\pip\\cache\\wheels\\04\\5f\\3e\\46cc37c5d698415694d83f607f833f83f0149e49b3af9d0f38\n",
      "Successfully built wget\n",
      "Installing collected packages: wget\n",
      "Successfully installed wget-3.2\n"
     ]
    }
   ],
   "source": [
    "!pip install wget"
   ]
  },
  {
   "cell_type": "code",
   "execution_count": 34,
   "id": "4d58e767",
   "metadata": {},
   "outputs": [
    {
     "name": "stdout",
     "output_type": "stream",
     "text": [
      "100% [........................................................................] 36611828 / 36611828"
     ]
    }
   ],
   "source": [
    "#wget https://github.com/bakwc/JamSpell-models/raw/master/en.tar.gz\n",
    "import wget\n",
    "url = 'https://github.com/bakwc/JamSpell-models/raw/master/en.tar.gz'\n",
    "filename = wget.download(url)"
   ]
  },
  {
   "cell_type": "code",
   "execution_count": 35,
   "id": "9bbf80c2",
   "metadata": {},
   "outputs": [
    {
     "name": "stderr",
     "output_type": "stream",
     "text": [
      "x en.bin\n"
     ]
    }
   ],
   "source": [
    "!tar -xvf en.tar.gz"
   ]
  },
  {
   "cell_type": "code",
   "execution_count": null,
   "id": "98343d7b",
   "metadata": {},
   "outputs": [],
   "source": [
    "!pip install jamspell"
   ]
  },
  {
   "cell_type": "markdown",
   "id": "f4879e02",
   "metadata": {},
   "source": [
    "Spell correction for sentences\n",
    "\n"
   ]
  },
  {
   "cell_type": "code",
   "execution_count": 47,
   "id": "908418fb",
   "metadata": {},
   "outputs": [
    {
     "name": "stdout",
     "output_type": "stream",
     "text": [
      "I am the best spell checker\n",
      "Water fell on my computer\n",
      "Atheist is one who does not believe in God\n",
      "I am extremely grateful to you\n",
      "Is this really necessary?\n",
      "I am in a real dilemma whether to buy fluorescent bulb or a LED bulb\n",
      "He conceded defeat and congratulated the winner\n",
      "His neighbor has a library at the end of this street\n",
      "He performed well in Miniature Golf and exceeded everyone's expectation\n",
      "Due to heavy rains, the bridge collapsed and resulted in a number of casualties\n",
      "Patience is a virtue\n",
      "Taking a week-long vacation would break the bank. There’s no way I could afford to do it\n",
      "The traffic cop receives kickbacks for not writing tickets to politicians\n",
      "The Louvre Museum in Paris has the genuine Mona Lisa\n"
     ]
    }
   ],
   "source": [
    "# Load Language model\n",
    "import jamspell\n",
    "jsp = jamspell.TSpellCorrector()\n",
    "assert jsp.LoadLangModel('en.bin')\n",
    " \n",
    "# To fix text automatically run FixFragment:\n",
    "print(jsp.FixFragment(\"I am the begt spell cherken\"))\n",
    "print(jsp.FixFragment(\"Watre fell on my computr\"))\n",
    "print(jsp.FixFragment(\"Athiest is one who does not beleve in God\"))\n",
    "print(jsp.FixFragment(\"I am extreemly greatful to you\"))\n",
    "print(jsp.FixFragment(\"Is this reelly necessery?\"))\n",
    "print(jsp.FixFragment(\"I am in a real dilema whether to buy flourescent bulb or a LED bulb\"))\n",
    "print(jsp.FixFragment(\"He conceeded defeat and congradulated the winner\"))\n",
    "print(jsp.FixFragment(\"His nieghbor has a libary at the end of this streat\"))\n",
    "print(jsp.FixFragment(\"He perfomed well in Miniture Golf and exceded everyone's expectation\"))\n",
    "print(jsp.FixFragment(\"Due to heavy rains, the brige colapsed and resulted in a number of casulities\"))\n",
    "print(jsp.FixFragment(\"Pationce is a vitue\"))\n",
    "print(jsp.FixFragment(\"Taking a week-long vacaton would braek the bank. There’s no way I could aford to do it\"))\n",
    "print(jsp.FixFragment(\"The traffic cop receves kicbacks for not writting tickets to politicians\"))\n",
    "print(jsp.FixFragment(\"The Louvre Musem in Paris has the genuin Mona Lisa\"))"
   ]
  }
 ],
 "metadata": {
  "kernelspec": {
   "display_name": "Python 3 (ipykernel)",
   "language": "python",
   "name": "python3"
  },
  "language_info": {
   "codemirror_mode": {
    "name": "ipython",
    "version": 3
   },
   "file_extension": ".py",
   "mimetype": "text/x-python",
   "name": "python",
   "nbconvert_exporter": "python",
   "pygments_lexer": "ipython3",
   "version": "3.9.13"
  }
 },
 "nbformat": 4,
 "nbformat_minor": 5
}
